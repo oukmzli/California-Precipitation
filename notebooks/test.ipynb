{
 "cells": [
  {
   "cell_type": "code",
   "id": "initial_id",
   "metadata": {
    "collapsed": true,
    "ExecuteTime": {
     "end_time": "2024-07-01T08:24:35.342342Z",
     "start_time": "2024-07-01T08:24:35.294915Z"
    }
   },
   "source": [
    "import pandas as pd\n",
    "\n",
    "data_path = './data/raw/monthly.csv'\n",
    "data = pd.read_csv(data_path)\n",
    "\n",
    "print(data.head())\n",
    "\n",
    "print(data.info())"
   ],
   "outputs": [
    {
     "name": "stdout",
     "output_type": "stream",
     "text": [
      "   Stn Id    Stn Name        CIMIS Region Month Year  Total ETo (mm) qc  \\\n",
      "0       2  FivePoints  San Joaquin Valley   Jan 2015           30.47      \n",
      "1       2  FivePoints  San Joaquin Valley   Feb 2015           66.69  K   \n",
      "2       2  FivePoints  San Joaquin Valley   Mar 2015          134.15      \n",
      "3       2  FivePoints  San Joaquin Valley   Apr 2015          175.32      \n",
      "4       2  FivePoints  San Joaquin Valley   May 2015          188.60      \n",
      "\n",
      "   Total Precip (mm) qc.1  Avg Sol Rad (W/sq.m) qc.2  ...  \\\n",
      "0                4.8    K                  83.0       ...   \n",
      "1                8.3                      144.0       ...   \n",
      "2                1.0                      221.0    K  ...   \n",
      "3               11.3                      278.0       ...   \n",
      "4               11.9                      301.0    K  ...   \n",
      "\n",
      "   Avg Min Rel Hum (%) qc.8  Avg Rel Hum (%) qc.9  Avg Dew Point (C) qc.10  \\\n",
      "0                 62.0                  81.0                     4.7         \n",
      "1                 44.0    K             67.0    K                6.4     K   \n",
      "2                 29.0                  49.0    K                5.0     K   \n",
      "3                 23.0                  40.0    K                2.9     K   \n",
      "4                 25.0                  43.0                     5.8         \n",
      "\n",
      "   Avg Wind Speed (m/s) qc.11  Avg Soil Temp (C) qc.12  \n",
      "0                   1.5                     10.5        \n",
      "1                   2.2     K               13.2        \n",
      "2                   2.6     K               15.2     K  \n",
      "3                   3.0     K               16.9        \n",
      "4                   2.6                     19.1        \n",
      "\n",
      "[5 rows x 30 columns]\n",
      "<class 'pandas.core.frame.DataFrame'>\n",
      "RangeIndex: 15262 entries, 0 to 15261\n",
      "Data columns (total 30 columns):\n",
      " #   Column                Non-Null Count  Dtype  \n",
      "---  ------                --------------  -----  \n",
      " 0   Stn Id                15262 non-null  int64  \n",
      " 1   Stn Name              15262 non-null  object \n",
      " 2   CIMIS Region          15262 non-null  object \n",
      " 3   Month Year            15262 non-null  object \n",
      " 4   Total ETo (mm)        14113 non-null  float64\n",
      " 5   qc                    15262 non-null  object \n",
      " 6   Total Precip (mm)     15136 non-null  float64\n",
      " 7   qc.1                  15262 non-null  object \n",
      " 8   Avg Sol Rad (W/sq.m)  15159 non-null  float64\n",
      " 9   qc.2                  15262 non-null  object \n",
      " 10  Avg Vap Pres (kPa)    15135 non-null  float64\n",
      " 11  qc.3                  15262 non-null  object \n",
      " 12  Avg Max Air Temp (C)  15155 non-null  float64\n",
      " 13  qc.4                  15262 non-null  object \n",
      " 14  Avg Min Air Temp (C)  15153 non-null  float64\n",
      " 15  qc.5                  15262 non-null  object \n",
      " 16  Avg Air Temp (C)      15153 non-null  float64\n",
      " 17  qc.6                  15262 non-null  object \n",
      " 18  Avg Max Rel Hum (%)   15149 non-null  float64\n",
      " 19  qc.7                  15262 non-null  object \n",
      " 20  Avg Min Rel Hum (%)   15149 non-null  float64\n",
      " 21  qc.8                  15262 non-null  object \n",
      " 22  Avg Rel Hum (%)       15117 non-null  float64\n",
      " 23  qc.9                  15262 non-null  object \n",
      " 24  Avg Dew Point (C)     15117 non-null  float64\n",
      " 25  qc.10                 15262 non-null  object \n",
      " 26  Avg Wind Speed (m/s)  15136 non-null  float64\n",
      " 27  qc.11                 15262 non-null  object \n",
      " 28  Avg Soil Temp (C)     14969 non-null  float64\n",
      " 29  qc.12                 15262 non-null  object \n",
      "dtypes: float64(13), int64(1), object(16)\n",
      "memory usage: 3.5+ MB\n",
      "None\n"
     ]
    }
   ],
   "execution_count": 10
  },
  {
   "metadata": {},
   "cell_type": "code",
   "outputs": [],
   "execution_count": null,
   "source": "",
   "id": "1f330c5fff98d9cb"
  }
 ],
 "metadata": {
  "kernelspec": {
   "display_name": "Python 3",
   "language": "python",
   "name": "python3"
  },
  "language_info": {
   "codemirror_mode": {
    "name": "ipython",
    "version": 2
   },
   "file_extension": ".py",
   "mimetype": "text/x-python",
   "name": "python",
   "nbconvert_exporter": "python",
   "pygments_lexer": "ipython2",
   "version": "2.7.6"
  }
 },
 "nbformat": 4,
 "nbformat_minor": 5
}
